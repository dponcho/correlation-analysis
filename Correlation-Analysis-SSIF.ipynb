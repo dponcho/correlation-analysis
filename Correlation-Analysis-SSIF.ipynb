{
 "cells": [
  {
   "cell_type": "markdown",
   "id": "8c17247e",
   "metadata": {},
   "source": [
    "# SSIF Correlation Analysis"
   ]
  },
  {
   "cell_type": "markdown",
   "id": "c22c9dd5",
   "metadata": {},
   "source": [
    "### Run the code in a cell below by selecting it and clicking on the play button at the top\n",
    "### For the code to run smoothly, run each cell in order"
   ]
  },
  {
   "cell_type": "code",
   "execution_count": null,
   "id": "2b2a2673",
   "metadata": {},
   "outputs": [],
   "source": [
    "%matplotlib inline\n",
    "import yfinance as yf\n",
    "import pandas as pd\n",
    "import numpy as np\n",
    "import matplotlib.pyplot as plt\n",
    "import datetime\n",
    "import seaborn as sns"
   ]
  },
  {
   "cell_type": "code",
   "execution_count": null,
   "id": "5d10df0c",
   "metadata": {},
   "outputs": [],
   "source": [
    "def combine_ohlc(series):\n",
    "    \"\"\"\n",
    "    Combines a dictionary of OHLC time series data into one DataFrame\n",
    "    with a single column containing the close values of each series\n",
    "    \"\"\"\n",
    "    c_data = series.copy()\n",
    "    \n",
    "    for i in c_data:        \n",
    "        c_data[i] = c_data[i][\"Adj Close\"]\n",
    "        c_data[i] = c_data[i].rename(i)\n",
    "    for i, ticker in enumerate(c_data):\n",
    "        if i == 0:\n",
    "            total_data = pd.DataFrame(c_data[ticker], index = c_data[ticker].index)\n",
    "        else:\n",
    "            total_data = pd.merge(total_data, c_data[ticker], left_index = True, right_index = True)\n",
    "        \n",
    "    return total_data"
   ]
  },
  {
   "cell_type": "markdown",
   "id": "d53e3083",
   "metadata": {},
   "source": [
    "### Enter the Ticker symbol of a stock below"
   ]
  },
  {
   "cell_type": "code",
   "execution_count": null,
   "id": "f69dba99",
   "metadata": {},
   "outputs": [],
   "source": [
    "# Enter the ticker symbol of the stock you're interested in\n",
    "ticker = input(\"Enter the ticker symbol of the stock you're interested in: \")"
   ]
  },
  {
   "cell_type": "code",
   "execution_count": null,
   "id": "63b153e5",
   "metadata": {},
   "outputs": [],
   "source": [
    "fund_performance = pd.read_csv(\"FundPerformance.csv\")"
   ]
  },
  {
   "cell_type": "code",
   "execution_count": null,
   "id": "9e32cbae",
   "metadata": {},
   "outputs": [],
   "source": [
    "stock = yf.download(ticker, start = \"2017-01-01\")"
   ]
  },
  {
   "cell_type": "code",
   "execution_count": null,
   "id": "1b2d61c6",
   "metadata": {},
   "outputs": [],
   "source": [
    "# Prepping the data\n",
    "fund_performance = fund_performance.set_index(\"Date\")\n",
    "fund_performance[\"SSIF Portfolio\"] = fund_performance[\"SSIF Portfolio\"]/100 + 1\n",
    "fund_performance.index = pd.to_datetime(fund_performance.index)\n",
    "combined_data = pd.merge(fund_performance[\"SSIF Portfolio\"], stock[\"Adj Close\"], left_index = True, right_index = True)"
   ]
  },
  {
   "cell_type": "code",
   "execution_count": null,
   "id": "d1aaba8a",
   "metadata": {},
   "outputs": [],
   "source": [
    "# Take log returns of daily price change\n",
    "adj_data_1 = np.log(combined_data.iloc[1:][\"SSIF Portfolio\"].values/combined_data.iloc[:-1][\"SSIF Portfolio\"].values)\n",
    "adj_data_2 = np.log(combined_data.iloc[1:][\"Adj Close\"].values/combined_data.iloc[:-1][\"Adj Close\"].values)"
   ]
  },
  {
   "cell_type": "code",
   "execution_count": null,
   "id": "63c549da",
   "metadata": {},
   "outputs": [],
   "source": [
    "# More data prep\n",
    "combined_data.loc[combined_data.index[1]:, \"SSIF Portfolio\"] = adj_data_1\n",
    "combined_data.loc[combined_data.index[1]:, \"Adj Close\"] = adj_data_2\n",
    "combined_data = combined_data.dropna().loc[combined_data.index[1]:,:]"
   ]
  },
  {
   "cell_type": "code",
   "execution_count": null,
   "id": "f00122b4",
   "metadata": {},
   "outputs": [],
   "source": [
    "print(\"Overall Correlation:\", combined_data.corr()[\"SSIF Portfolio\"][\"Adj Close\"])"
   ]
  },
  {
   "cell_type": "code",
   "execution_count": null,
   "id": "f52ab2fd",
   "metadata": {},
   "outputs": [],
   "source": [
    "# Calculate trailing 6-month correlation between the SSIF and the stock\n",
    "times = combined_data.index\n",
    "year = datetime.timedelta(days = 182)\n",
    "corrs = []\n",
    "for i in combined_data[times[0] + year:].index:\n",
    "    corrs.append([i,combined_data[i - year:i].corr().iloc[0][1]])\n",
    "corrs = np.array(corrs)"
   ]
  },
  {
   "cell_type": "markdown",
   "id": "13236cfb",
   "metadata": {},
   "source": [
    "### Plotting correlation between SSIF's daily performance and stock"
   ]
  },
  {
   "cell_type": "code",
   "execution_count": null,
   "id": "5d5b313b",
   "metadata": {},
   "outputs": [],
   "source": [
    "# Plot correlation coefficient over last 2.5 years\n",
    "fig = plt.figure(figsize = (12,6))\n",
    "ax = plt.axes()\n",
    "\n",
    "ax.set_ylabel(\"Correlation Coefficient\")\n",
    "ax.yaxis.label.set_color(\"black\")\n",
    "ax.yaxis.label.set_size(18)\n",
    "\n",
    "ax.tick_params(axis = 'x', colors = \"black\")\n",
    "ax.tick_params(axis = 'y', colors = \"black\")\n",
    "\n",
    "ax.plot(corrs[:,0], corrs[:,1]);"
   ]
  },
  {
   "cell_type": "markdown",
   "id": "6980eca2",
   "metadata": {},
   "source": [
    "### Plotting stock's performance vs. SSIF's performance"
   ]
  },
  {
   "cell_type": "code",
   "execution_count": null,
   "id": "7cc192cd",
   "metadata": {},
   "outputs": [],
   "source": [
    "# Plot price chart of the SSIF and the stock\n",
    "combined_data = pd.merge(fund_performance[\"SSIF Portfolio\"], stock[\"Adj Close\"], left_index = True, right_index = True)\n",
    "\n",
    "fig = plt.figure(figsize = (14,8))\n",
    "ax = plt.axes()\n",
    "\n",
    "ax.tick_params(axis = 'x', colors = \"black\")\n",
    "ax.tick_params(axis = 'y', colors = \"black\")\n",
    "\n",
    "ax.plot(combined_data[\"SSIF Portfolio\"]/(combined_data.iloc[0][\"SSIF Portfolio\"]/combined_data.iloc[0][\"Adj Close\"]), label = \"SSIF Portfolio\")\n",
    "ax.plot(combined_data[\"Adj Close\"], label = ticker)\n",
    "\n",
    "leg = ax.legend();"
   ]
  },
  {
   "cell_type": "markdown",
   "id": "cb277357",
   "metadata": {},
   "source": [
    "## Analyze the stock against each of the SSIF's holdings individually"
   ]
  },
  {
   "cell_type": "code",
   "execution_count": null,
   "id": "5f2b6e69",
   "metadata": {},
   "outputs": [],
   "source": [
    "# Get list of SSIf's current holdings\n",
    "holdings = pd.read_csv(\"SSIFHoldings.csv\")"
   ]
  },
  {
   "cell_type": "code",
   "execution_count": null,
   "id": "96b7887f",
   "metadata": {},
   "outputs": [],
   "source": [
    "# Get daily stock price data for all the fund's holdings\n",
    "holdings_price = {}\n",
    "holdings_price[ticker] = stock\n",
    "for i in holdings[\"Ticker\"]:\n",
    "    holdings_price[i] = yf.download(i, start = \"2019-01-01\")"
   ]
  },
  {
   "cell_type": "code",
   "execution_count": null,
   "id": "934f39b7",
   "metadata": {},
   "outputs": [],
   "source": [
    "all_stock_data = combine_ohlc(holdings_price)"
   ]
  },
  {
   "cell_type": "code",
   "execution_count": null,
   "id": "db92328d",
   "metadata": {},
   "outputs": [],
   "source": [
    "# Convert stock prices to log returns\n",
    "for i in all_stock_data:\n",
    "    all_stock_data.loc[all_stock_data.index[1]:,i] = np.log(all_stock_data.iloc[1:][i].values/all_stock_data.iloc[:-1][i].values)\n",
    "all_stock_data = all_stock_data.loc[all_stock_data.index[1]:,:]"
   ]
  },
  {
   "cell_type": "markdown",
   "id": "40b42aca",
   "metadata": {},
   "source": [
    "### Generate a heatmap of the correlations between stock and each of the fund's holdings"
   ]
  },
  {
   "cell_type": "code",
   "execution_count": null,
   "id": "f4ee2994",
   "metadata": {},
   "outputs": [],
   "source": [
    "# Heatmap\n",
    "fig = plt.figure(figsize = (15,7))\n",
    "ax = plt.axes()\n",
    "\n",
    "ax.tick_params(axis = 'x', colors = \"black\")\n",
    "ax.tick_params(axis = 'y', colors = \"black\")\n",
    "\n",
    "print(\"Take a look at the first column of the heatmap\")\n",
    "sns.heatmap(all_stock_data.corr(), annot = True, vmin = -1, vmax = 1);"
   ]
  },
  {
   "cell_type": "code",
   "execution_count": null,
   "id": "59af15b3",
   "metadata": {},
   "outputs": [],
   "source": [
    "# Calculate average correlation\n",
    "print(\"Average Correlation:\", all_stock_data.corr()[\"ITW\"].mean())"
   ]
  },
  {
   "cell_type": "markdown",
   "id": "bcf8c55e",
   "metadata": {},
   "source": [
    "### Calculate trailing 6-month correlation between each SSIF holding and the stock"
   ]
  },
  {
   "cell_type": "code",
   "execution_count": null,
   "id": "91d8d1d9",
   "metadata": {},
   "outputs": [],
   "source": [
    "# Calculate trailing 6-month correlation between each SSIF holding and the stock\n",
    "times = all_stock_data.index\n",
    "year = datetime.timedelta(days = 182)\n",
    "corrs_all = []\n",
    "for i in all_stock_data[times[0] + year:].index:\n",
    "    day_corr = all_stock_data[i - year:i].corr()[\"ITW\"].to_dict()\n",
    "    day_corr = [[ticker, float(val)] for ticker, val in day_corr.items()]\n",
    "    corrs_all.append([i,np.array(day_corr)])\n",
    "corrs_all = np.asarray(corrs_all, dtype = object)"
   ]
  },
  {
   "cell_type": "code",
   "execution_count": null,
   "id": "213011fe",
   "metadata": {},
   "outputs": [],
   "source": [
    "chosen_stock = input(\"Enter ticker symbol of an SSIF holding: \")\n",
    "ind = 0\n",
    "for i in range(len(corrs_all[:,1][0])):\n",
    "    if corrs_all[:,1][0][i][0] == chosen_stock:\n",
    "        ind = i\n",
    "        break"
   ]
  },
  {
   "cell_type": "code",
   "execution_count": null,
   "id": "b6f269a2",
   "metadata": {},
   "outputs": [],
   "source": [
    "# Plot correlation coefficient over last 2 years\n",
    "corr_series = [float(i[ind][1]) for i in corrs_all[:,1][:]]\n",
    "\n",
    "fig, ax = plt.subplots(figsize = (12,8))\n",
    "\n",
    "ax.plot(corrs_all[:,0], corr_series)\n",
    "\n",
    "ax.set_ylabel(\"Correlation Coefficient\")\n",
    "ax.yaxis.label.set_color(\"black\")\n",
    "ax.yaxis.label.set_size(18)\n",
    "\n",
    "ax.tick_params(axis = 'x', colors = \"black\")\n",
    "ax.tick_params(axis = 'y', colors = \"black\")\n",
    "ax.set(title = f\"{ticker} vs. {corrs_all[:,1][:][0][ind][0]}\");"
   ]
  },
  {
   "cell_type": "code",
   "execution_count": null,
   "id": "ff93b9f1",
   "metadata": {},
   "outputs": [],
   "source": []
  }
 ],
 "metadata": {
  "kernelspec": {
   "display_name": "Python 3",
   "language": "python",
   "name": "python3"
  },
  "language_info": {
   "codemirror_mode": {
    "name": "ipython",
    "version": 3
   },
   "file_extension": ".py",
   "mimetype": "text/x-python",
   "name": "python",
   "nbconvert_exporter": "python",
   "pygments_lexer": "ipython3",
   "version": "3.8.8"
  }
 },
 "nbformat": 4,
 "nbformat_minor": 5
}
