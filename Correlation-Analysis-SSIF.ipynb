{
 "cells": [
  {
   "cell_type": "code",
   "execution_count": null,
   "id": "0a78b5b5",
   "metadata": {},
   "outputs": [],
   "source": [
    "# Correlation Analysis\n",
    "# Run the code in a cell below by selecting it and clicking on the play button at the top\n",
    "# For the code to run smoothly, run each cell in order"
   ]
  },
  {
   "cell_type": "code",
   "execution_count": null,
   "id": "2b2a2673",
   "metadata": {},
   "outputs": [],
   "source": [
    "%matplotlib inline\n",
    "import yfinance as yf\n",
    "import pandas as pd\n",
    "import numpy as np\n",
    "import matplotlib.pyplot as plt\n",
    "import datetime"
   ]
  },
  {
   "cell_type": "code",
   "execution_count": null,
   "id": "f69dba99",
   "metadata": {},
   "outputs": [],
   "source": [
    "# Enter the ticker symbol of the stock you're interested in\n",
    "ticker = \"ITW\""
   ]
  },
  {
   "cell_type": "code",
   "execution_count": null,
   "id": "63b153e5",
   "metadata": {},
   "outputs": [],
   "source": [
    "price_data_1 = pd.read_csv(\"FundPerformance.csv\")"
   ]
  },
  {
   "cell_type": "code",
   "execution_count": null,
   "id": "9e32cbae",
   "metadata": {},
   "outputs": [],
   "source": [
    "price_data_2 = yf.download(ticker, start = \"2010-01-01\")"
   ]
  },
  {
   "cell_type": "code",
   "execution_count": null,
   "id": "1b2d61c6",
   "metadata": {},
   "outputs": [],
   "source": [
    "price_data_1 = price_data_1.set_index(\"Date\")"
   ]
  },
  {
   "cell_type": "code",
   "execution_count": null,
   "id": "d69cea0b",
   "metadata": {},
   "outputs": [],
   "source": [
    "price_data_1[\"SSIF Portfolio\"] = price_data_1[\"SSIF Portfolio\"]/100 + 1"
   ]
  },
  {
   "cell_type": "code",
   "execution_count": null,
   "id": "759329b2",
   "metadata": {},
   "outputs": [],
   "source": [
    "price_data_1.index = pd.to_datetime(price_data_1.index)"
   ]
  },
  {
   "cell_type": "code",
   "execution_count": null,
   "id": "905ac258",
   "metadata": {},
   "outputs": [],
   "source": [
    "combined_data = pd.merge(price_data_1[\"SSIF Portfolio\"], price_data_2[\"Adj Close\"], left_index = True, right_index = True)"
   ]
  },
  {
   "cell_type": "code",
   "execution_count": null,
   "id": "d1aaba8a",
   "metadata": {},
   "outputs": [],
   "source": [
    "# Take log returns of daily price change\n",
    "adj_data_1 = np.log(combined_data.iloc[1:][\"SSIF Portfolio\"].values/combined_data.iloc[:-1][\"SSIF Portfolio\"].values)\n",
    "adj_data_2 = np.log(combined_data.iloc[1:][\"Adj Close\"].values/combined_data.iloc[:-1][\"Adj Close\"].values)"
   ]
  },
  {
   "cell_type": "code",
   "execution_count": null,
   "id": "63c549da",
   "metadata": {},
   "outputs": [],
   "source": [
    "combined_data.loc[combined_data.index[1]:, \"SSIF Portfolio\"] = adj_data_1\n",
    "combined_data.loc[combined_data.index[1]:, \"Adj Close\"] = adj_data_2\n",
    "combined_data = combined_data.dropna().loc[combined_data.index[1]:,:]"
   ]
  },
  {
   "cell_type": "code",
   "execution_count": null,
   "id": "f00122b4",
   "metadata": {},
   "outputs": [],
   "source": [
    "combined_data.corr()"
   ]
  },
  {
   "cell_type": "code",
   "execution_count": null,
   "id": "f52ab2fd",
   "metadata": {},
   "outputs": [],
   "source": [
    "# Calculate trailing 6-month correlation between the SSIF and the stock\n",
    "times = combined_data.index\n",
    "year = datetime.timedelta(days = 182)\n",
    "corrs = []\n",
    "for i in combined_data[times[0] + year:].index:\n",
    "    corrs.append([i,combined_data[i - year:i].corr().iloc[0][1]])\n"
   ]
  },
  {
   "cell_type": "code",
   "execution_count": null,
   "id": "a258ad5f",
   "metadata": {},
   "outputs": [],
   "source": [
    "corrs = np.array(corrs)\n",
    "corrs"
   ]
  },
  {
   "cell_type": "code",
   "execution_count": null,
   "id": "5d5b313b",
   "metadata": {},
   "outputs": [],
   "source": [
    "# Plot correlation coefficient over last 2 years\n",
    "fig = plt.figure(figsize = (12,6))\n",
    "ax = plt.axes()\n",
    "\n",
    "ax.set_ylabel(\"Correlation Coefficient\")\n",
    "ax.yaxis.label.set_color(\"black\")\n",
    "ax.yaxis.label.set_size(18)\n",
    "\n",
    "ax.tick_params(axis = 'x', colors = \"black\")\n",
    "ax.tick_params(axis = 'y', colors = \"black\")\n",
    "\n",
    "ax.plot(corrs[:,0], corrs[:,1]);"
   ]
  },
  {
   "cell_type": "code",
   "execution_count": null,
   "id": "7cc192cd",
   "metadata": {},
   "outputs": [],
   "source": [
    "# Plot price chart of the SSIF and the stock\n",
    "combined_data = pd.merge(price_data_1[\"SSIF Portfolio\"], price_data_2[\"Adj Close\"], left_index = True, right_index = True)\n",
    "\n",
    "fig = plt.figure(figsize = (14,8))\n",
    "ax = plt.axes()\n",
    "\n",
    "ax.tick_params(axis = 'x', colors = \"white\")\n",
    "ax.tick_params(axis = 'y', colors = \"white\")\n",
    "\n",
    "ax.plot(combined_data[\"SSIF Portfolio\"]/(combined_data.iloc[0][\"SSIF Portfolio\"]/combined_data.iloc[0][\"Adj Close\"]), label = \"SSIF Portfolio\")\n",
    "ax.plot(combined_data[\"Adj Close\"], label = ticker)\n",
    "\n",
    "leg = ax.legend();"
   ]
  },
  {
   "cell_type": "code",
   "execution_count": null,
   "id": "5f2b6e69",
   "metadata": {},
   "outputs": [],
   "source": []
  },
  {
   "cell_type": "code",
   "execution_count": null,
   "id": "96b7887f",
   "metadata": {},
   "outputs": [],
   "source": []
  }
 ],
 "metadata": {
  "kernelspec": {
   "display_name": "Python 3",
   "language": "python",
   "name": "python3"
  },
  "language_info": {
   "codemirror_mode": {
    "name": "ipython",
    "version": 3
   },
   "file_extension": ".py",
   "mimetype": "text/x-python",
   "name": "python",
   "nbconvert_exporter": "python",
   "pygments_lexer": "ipython3",
   "version": "3.8.8"
  }
 },
 "nbformat": 4,
 "nbformat_minor": 5
}
